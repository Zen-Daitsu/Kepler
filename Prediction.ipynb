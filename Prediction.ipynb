{
 "cells": [
  {
   "cell_type": "code",
   "execution_count": 36,
   "id": "cc06d2a0-4c55-4d6c-92c2-2f1c2659e11f",
   "metadata": {},
   "outputs": [],
   "source": [
    "import pandas as pd\n",
    "import pickle\n",
    "from sklearn.ensemble import RandomForestClassifier\n",
    "from sklearn.datasets import make_classification\n",
    "import matplotlib.pyplot as plt"
   ]
  },
  {
   "cell_type": "code",
   "execution_count": 38,
   "id": "899c302e-9040-4e2b-b522-3f20c4636ec6",
   "metadata": {},
   "outputs": [],
   "source": [
    "df = pd.read_csv('data_deploy.csv', index_col=0)\n",
    "df_raw=pd.read_csv('data_raw.csv', index_col=0)\n"
   ]
  },
  {
   "cell_type": "code",
   "execution_count": 40,
   "id": "f696d1ea-581d-415f-af09-c34365255a9d",
   "metadata": {},
   "outputs": [
    {
     "name": "stdout",
     "output_type": "stream",
     "text": [
      "<class 'pandas.core.frame.DataFrame'>\n",
      "Index: 2216 entries, 37 to 9561\n",
      "Data columns (total 9 columns):\n",
      " #   Column            Non-Null Count  Dtype  \n",
      "---  ------            --------------  -----  \n",
      " 0   koi_score         2216 non-null   float64\n",
      " 1   koi_impact        2216 non-null   float64\n",
      " 2   koi_impact_err1   2216 non-null   float64\n",
      " 3   koi_impact_err2   2216 non-null   float64\n",
      " 4   koi_tce_plnt_num  2216 non-null   float64\n",
      " 5   koi_steff_err1    2216 non-null   float64\n",
      " 6   koi_steff_err2    2216 non-null   float64\n",
      " 7   ra                2216 non-null   float64\n",
      " 8   dec               2216 non-null   float64\n",
      "dtypes: float64(9)\n",
      "memory usage: 173.1 KB\n",
      "None\n"
     ]
    }
   ],
   "source": [
    "print(df.info())"
   ]
  },
  {
   "cell_type": "code",
   "execution_count": 42,
   "id": "1cbdd852-06cb-46c7-9d51-3317929944fc",
   "metadata": {},
   "outputs": [
    {
     "data": {
      "text/html": [
       "<div>\n",
       "<style scoped>\n",
       "    .dataframe tbody tr th:only-of-type {\n",
       "        vertical-align: middle;\n",
       "    }\n",
       "\n",
       "    .dataframe tbody tr th {\n",
       "        vertical-align: top;\n",
       "    }\n",
       "\n",
       "    .dataframe thead th {\n",
       "        text-align: right;\n",
       "    }\n",
       "</style>\n",
       "<table border=\"1\" class=\"dataframe\">\n",
       "  <thead>\n",
       "    <tr style=\"text-align: right;\">\n",
       "      <th></th>\n",
       "      <th>koi_score</th>\n",
       "      <th>koi_impact</th>\n",
       "      <th>koi_impact_err1</th>\n",
       "      <th>koi_impact_err2</th>\n",
       "      <th>koi_tce_plnt_num</th>\n",
       "      <th>koi_steff_err1</th>\n",
       "      <th>koi_steff_err2</th>\n",
       "      <th>ra</th>\n",
       "      <th>dec</th>\n",
       "    </tr>\n",
       "  </thead>\n",
       "  <tbody>\n",
       "    <tr>\n",
       "      <th>count</th>\n",
       "      <td>2216.000000</td>\n",
       "      <td>2216.000000</td>\n",
       "      <td>2216.000000</td>\n",
       "      <td>2216.000000</td>\n",
       "      <td>2216.0</td>\n",
       "      <td>2216.000000</td>\n",
       "      <td>2216.000000</td>\n",
       "      <td>2216.000000</td>\n",
       "      <td>2216.000000</td>\n",
       "    </tr>\n",
       "    <tr>\n",
       "      <th>mean</th>\n",
       "      <td>0.964116</td>\n",
       "      <td>0.452041</td>\n",
       "      <td>0.230638</td>\n",
       "      <td>-0.297759</td>\n",
       "      <td>1.0</td>\n",
       "      <td>0.508065</td>\n",
       "      <td>0.554965</td>\n",
       "      <td>0.537242</td>\n",
       "      <td>0.465091</td>\n",
       "    </tr>\n",
       "    <tr>\n",
       "      <th>std</th>\n",
       "      <td>0.053128</td>\n",
       "      <td>0.364511</td>\n",
       "      <td>0.201462</td>\n",
       "      <td>0.232026</td>\n",
       "      <td>0.0</td>\n",
       "      <td>0.158463</td>\n",
       "      <td>0.172036</td>\n",
       "      <td>0.226101</td>\n",
       "      <td>0.233221</td>\n",
       "    </tr>\n",
       "    <tr>\n",
       "      <th>min</th>\n",
       "      <td>0.860000</td>\n",
       "      <td>0.000000</td>\n",
       "      <td>0.000000</td>\n",
       "      <td>-1.073200</td>\n",
       "      <td>1.0</td>\n",
       "      <td>0.000000</td>\n",
       "      <td>0.000000</td>\n",
       "      <td>0.000000</td>\n",
       "      <td>0.000000</td>\n",
       "    </tr>\n",
       "    <tr>\n",
       "      <th>25%</th>\n",
       "      <td>0.944000</td>\n",
       "      <td>0.123000</td>\n",
       "      <td>0.046000</td>\n",
       "      <td>-0.476125</td>\n",
       "      <td>1.0</td>\n",
       "      <td>0.363636</td>\n",
       "      <td>0.440000</td>\n",
       "      <td>0.361227</td>\n",
       "      <td>0.274123</td>\n",
       "    </tr>\n",
       "    <tr>\n",
       "      <th>50%</th>\n",
       "      <td>0.997000</td>\n",
       "      <td>0.372000</td>\n",
       "      <td>0.216700</td>\n",
       "      <td>-0.269550</td>\n",
       "      <td>1.0</td>\n",
       "      <td>0.563636</td>\n",
       "      <td>0.549630</td>\n",
       "      <td>0.551763</td>\n",
       "      <td>0.465925</td>\n",
       "    </tr>\n",
       "    <tr>\n",
       "      <th>75%</th>\n",
       "      <td>1.000000</td>\n",
       "      <td>0.748000</td>\n",
       "      <td>0.364300</td>\n",
       "      <td>-0.078075</td>\n",
       "      <td>1.0</td>\n",
       "      <td>0.618182</td>\n",
       "      <td>0.733333</td>\n",
       "      <td>0.718357</td>\n",
       "      <td>0.646755</td>\n",
       "    </tr>\n",
       "    <tr>\n",
       "      <th>max</th>\n",
       "      <td>1.000000</td>\n",
       "      <td>1.685500</td>\n",
       "      <td>0.841750</td>\n",
       "      <td>0.000000</td>\n",
       "      <td>1.0</td>\n",
       "      <td>1.000000</td>\n",
       "      <td>1.000000</td>\n",
       "      <td>1.000000</td>\n",
       "      <td>1.000000</td>\n",
       "    </tr>\n",
       "  </tbody>\n",
       "</table>\n",
       "</div>"
      ],
      "text/plain": [
       "         koi_score   koi_impact  koi_impact_err1  koi_impact_err2  \\\n",
       "count  2216.000000  2216.000000      2216.000000      2216.000000   \n",
       "mean      0.964116     0.452041         0.230638        -0.297759   \n",
       "std       0.053128     0.364511         0.201462         0.232026   \n",
       "min       0.860000     0.000000         0.000000        -1.073200   \n",
       "25%       0.944000     0.123000         0.046000        -0.476125   \n",
       "50%       0.997000     0.372000         0.216700        -0.269550   \n",
       "75%       1.000000     0.748000         0.364300        -0.078075   \n",
       "max       1.000000     1.685500         0.841750         0.000000   \n",
       "\n",
       "       koi_tce_plnt_num  koi_steff_err1  koi_steff_err2           ra  \\\n",
       "count            2216.0     2216.000000     2216.000000  2216.000000   \n",
       "mean                1.0        0.508065        0.554965     0.537242   \n",
       "std                 0.0        0.158463        0.172036     0.226101   \n",
       "min                 1.0        0.000000        0.000000     0.000000   \n",
       "25%                 1.0        0.363636        0.440000     0.361227   \n",
       "50%                 1.0        0.563636        0.549630     0.551763   \n",
       "75%                 1.0        0.618182        0.733333     0.718357   \n",
       "max                 1.0        1.000000        1.000000     1.000000   \n",
       "\n",
       "               dec  \n",
       "count  2216.000000  \n",
       "mean      0.465091  \n",
       "std       0.233221  \n",
       "min       0.000000  \n",
       "25%       0.274123  \n",
       "50%       0.465925  \n",
       "75%       0.646755  \n",
       "max       1.000000  "
      ]
     },
     "metadata": {},
     "output_type": "display_data"
    }
   ],
   "source": [
    "display(df.describe())"
   ]
  },
  {
   "cell_type": "code",
   "execution_count": 44,
   "id": "47995e44-c2d1-4e2b-bcf4-ba7f4c718e96",
   "metadata": {},
   "outputs": [],
   "source": [
    "# 3. Load the model for prediction (in your deployment environment)\n",
    "with open('random_forest_model.pkl', 'rb') as file:\n",
    "    loaded_model = pickle.load(file)"
   ]
  },
  {
   "cell_type": "code",
   "execution_count": 46,
   "id": "127bc3cd-8b61-4f1a-884b-be60bf2bae55",
   "metadata": {},
   "outputs": [
    {
     "name": "stdout",
     "output_type": "stream",
     "text": [
      "Prediction (joblib): [1 1 1 ... 0 1 1]\n"
     ]
    }
   ],
   "source": [
    "prediction = loaded_model.predict(df)\n",
    "print(f\"Prediction (joblib): {prediction}\")"
   ]
  },
  {
   "cell_type": "code",
   "execution_count": 48,
   "id": "d89a88a2-2cb3-45a7-8a90-c22c0269e056",
   "metadata": {},
   "outputs": [
    {
     "name": "stdout",
     "output_type": "stream",
     "text": [
      "[1 1 1 ... 0 1 1]\n"
     ]
    }
   ],
   "source": [
    "print(prediction)"
   ]
  },
  {
   "cell_type": "code",
   "execution_count": 50,
   "id": "af0a2910-76c4-4c0f-ae09-957c42dbbbe8",
   "metadata": {},
   "outputs": [
    {
     "name": "stdout",
     "output_type": "stream",
     "text": [
      "int64\n"
     ]
    }
   ],
   "source": [
    "print(prediction.dtype)"
   ]
  },
  {
   "cell_type": "code",
   "execution_count": 52,
   "id": "6472ae77-52c9-4838-aae8-f561b3fddb6d",
   "metadata": {},
   "outputs": [
    {
     "name": "stdout",
     "output_type": "stream",
     "text": [
      "      prediction  koi_score  koi_period  koi_period_err1  koi_period_err2  \\\n",
      "37             1      1.000    4.959319     5.150000e-07    -5.150000e-07   \n",
      "58             1      0.999   40.419504     1.139000e-04    -1.139000e-04   \n",
      "62             1      0.993    7.240661     1.617000e-05    -1.617000e-05   \n",
      "63             1      0.871    3.435916     4.729000e-05    -4.729000e-05   \n",
      "72             1      0.860    1.626630     1.015000e-06    -1.015000e-06   \n",
      "...          ...        ...         ...              ...              ...   \n",
      "9550           1      0.860    4.736816     1.470000e-04    -1.470000e-04   \n",
      "9551           1      0.860  130.235324     1.601218e-03    -1.601218e-03   \n",
      "9557           0      1.000    8.870416     9.022000e-06    -9.022000e-06   \n",
      "9558           1      1.000   47.109631     1.940000e-04    -1.940000e-04   \n",
      "9561           1      0.860    1.739849     1.780000e-05    -1.780000e-05   \n",
      "\n",
      "      koi_impact  koi_impact_err1  koi_impact_err2  koi_duration  \\\n",
      "37         0.831          0.01600           -0.004       2.22739   \n",
      "58         0.911          0.84175           -0.118       3.36200   \n",
      "62         1.198          0.84175           -0.258       0.55800   \n",
      "63         0.624          0.03700           -0.476       3.13300   \n",
      "72         1.260          0.84175           -0.043       2.11450   \n",
      "...          ...              ...              ...           ...   \n",
      "9550       0.218          0.28500           -0.218       2.84000   \n",
      "9551       0.075          0.38700           -0.075       5.67800   \n",
      "9557       1.206          0.84175           -0.033       1.28640   \n",
      "9558       1.230          0.84175           -0.605       5.74100   \n",
      "9561       0.043          0.42300           -0.043       3.11400   \n",
      "\n",
      "      koi_duration_err1  ...  koi_steff_err2  koi_slogg  koi_slogg_err1  \\\n",
      "37               0.0075  ...           -77.0     4.3590        0.110000   \n",
      "58               0.1400  ...          -163.0     4.5070        0.116000   \n",
      "62               0.1710  ...           -79.0     4.5950        0.012000   \n",
      "63               0.4070  ...          -115.0     4.3390        0.132000   \n",
      "72               0.0285  ...          -172.0     4.4100        0.124000   \n",
      "...                 ...  ...             ...        ...             ...   \n",
      "9550             1.0000  ...          -201.0     4.4560        0.056000   \n",
      "9551             0.5340  ...          -183.0     4.5290        0.036000   \n",
      "9557             0.0514  ...          -181.0     4.0270        0.278375   \n",
      "9558             0.1720  ...          -159.0     3.8335        0.278375   \n",
      "9561             0.2290  ...          -220.0     4.4440        0.056000   \n",
      "\n",
      "      koi_slogg_err2  koi_srad  koi_srad_err1  koi_srad_err2         ra  \\\n",
      "37            -0.110     1.082         0.1730       -0.13000  292.16705   \n",
      "58            -0.105     0.781         0.1160       -0.09500  294.31686   \n",
      "62            -0.064     0.765         0.0550       -0.02800  293.83331   \n",
      "63            -0.108     1.087         0.1570       -0.14200  287.88733   \n",
      "72            -0.186     0.973         0.2700       -0.14500  294.36819   \n",
      "...              ...       ...            ...            ...        ...   \n",
      "9550          -0.224     1.011         0.3290       -0.11000  289.20331   \n",
      "9551          -0.192     0.903         0.2510       -0.08400  289.57452   \n",
      "9557          -0.186     1.514         0.4260       -0.42125  290.14914   \n",
      "9558          -0.242     1.930         0.6795       -0.42125  296.15601   \n",
      "9561          -0.224     1.031         0.3410       -0.11400  286.50937   \n",
      "\n",
      "            dec  koi_kepmag  \n",
      "37    48.727589      15.263  \n",
      "58    50.080231      15.487  \n",
      "62    50.230350      15.334  \n",
      "63    46.276241      12.791  \n",
      "72    38.310280      15.279  \n",
      "...         ...         ...  \n",
      "9550  44.505138      13.922  \n",
      "9551  44.519939      15.991  \n",
      "9557  50.239178      13.579  \n",
      "9558  44.920090      13.731  \n",
      "9561  47.163219      14.757  \n",
      "\n",
      "[2216 rows x 35 columns]\n"
     ]
    }
   ],
   "source": [
    "df_raw['prediction'] = prediction\n",
    "cols = df_raw.columns.tolist()\n",
    "cols.remove('prediction')\n",
    "cols.insert(0, 'prediction')\n",
    "df_raw = df_raw[cols]\n",
    "# Display the DataFrame with the new column\n",
    "print(df_raw)"
   ]
  },
  {
   "cell_type": "code",
   "execution_count": 54,
   "id": "7e433833-b064-424f-9f9b-196cd2f20d3a",
   "metadata": {},
   "outputs": [
    {
     "name": "stdout",
     "output_type": "stream",
     "text": [
      "prediction\n",
      "1    2163\n",
      "0      53\n",
      "Name: count, dtype: int64\n"
     ]
    }
   ],
   "source": [
    "value_counts = df_raw['prediction'].value_counts()\n",
    "\n",
    "print(value_counts)"
   ]
  },
  {
   "cell_type": "code",
   "execution_count": 60,
   "id": "26b6ded9-5955-477a-bc12-610d415559ce",
   "metadata": {},
   "outputs": [
    {
     "data": {
      "image/png": "[encoded data removed]",
      "text/plain": [
       "<Figure size 640x480 with 1 Axes>"
      ]
     },
     "metadata": {},
     "output_type": "display_data"
    }
   ],
   "source": [
    "#Diagramme circulaire exploded\n",
    "\n",
    "# Exemple de données\n",
    "labels = ['1-Confirmed','0-False positive']  # Catégories\n",
    "sizes = df_raw['prediction'].value_counts()  # Nombre d'occurrences ou proportions\n",
    "colors = ['lightblue', 'lightgreen']  # Couleurs pour les catégories\n",
    "explode = (0, 0.1)  # Décaler le deuxième segment\n",
    "\n",
    "# Création du diagramme circulaire\n",
    "#pieChart = axes[1, 1]\n",
    "plt.pie(\n",
    "    sizes,\n",
    "    labels=labels,\n",
    "    autopct='%1.1f%%',  # Affiche les pourcentages avec un chiffre après la virgule\n",
    "    startangle=90,\n",
    "    colors=colors,\n",
    "    explode=explode,\n",
    "    shadow=True\n",
    ")\n",
    "\n",
    "# Ajouter un titre\n",
    "plt.title('Répartition de la prediction')\n",
    "\n",
    "plt.show()"
   ]
  },
  {
   "cell_type": "code",
   "execution_count": null,
   "id": "19a48c93-a125-485b-914c-d9cb7b962c12",
   "metadata": {},
   "outputs": [],
   "source": []
  }
 ],
 "metadata": {
  "kernelspec": {
   "display_name": "Python [conda env:base] *",
   "language": "python",
   "name": "conda-base-py"
  },
  "language_info": {
   "codemirror_mode": {
    "name": "ipython",
    "version": 3
   },
   "file_extension": ".py",
   "mimetype": "text/x-python",
   "name": "python",
   "nbconvert_exporter": "python",
   "pygments_lexer": "ipython3",
   "version": "3.12.7"
  }
 },
 "nbformat": 4,
 "nbformat_minor": 5
}
